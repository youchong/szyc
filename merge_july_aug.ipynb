{
 "cells": [
  {
   "cell_type": "code",
   "execution_count": 1,
   "metadata": {
    "collapsed": true
   },
   "outputs": [],
   "source": [
    "import pandas as pd\n",
    "import numpy as np\n",
    "import random as rnd"
   ]
  },
  {
   "cell_type": "code",
   "execution_count": 2,
   "metadata": {
    "collapsed": true
   },
   "outputs": [],
   "source": [
    "july=pd.read_csv('data/train_July.csv')\n",
    "aug=pd.read_csv('data/train_Aug.csv')"
   ]
  },
  {
   "cell_type": "code",
   "execution_count": 3,
   "metadata": {
    "collapsed": true
   },
   "outputs": [],
   "source": [
    "july=july.sort_values(['create_date','create_hour','start_geo_id','end_geo_id'])\n",
    "aug=aug.sort_values(['create_date','create_hour','start_geo_id','end_geo_id'])"
   ]
  },
  {
   "cell_type": "code",
   "execution_count": 4,
   "metadata": {
    "collapsed": true
   },
   "outputs": [],
   "source": [
    "july_aug=pd.concat([july,aug],axis=0)"
   ]
  },
  {
   "cell_type": "code",
   "execution_count": 5,
   "metadata": {},
   "outputs": [
    {
     "data": {
      "text/html": [
       "<div>\n",
       "<style>\n",
       "    .dataframe thead tr:only-child th {\n",
       "        text-align: right;\n",
       "    }\n",
       "\n",
       "    .dataframe thead th {\n",
       "        text-align: left;\n",
       "    }\n",
       "\n",
       "    .dataframe tbody tr th {\n",
       "        vertical-align: top;\n",
       "    }\n",
       "</style>\n",
       "<table border=\"1\" class=\"dataframe\">\n",
       "  <thead>\n",
       "    <tr style=\"text-align: right;\">\n",
       "      <th></th>\n",
       "      <th>id</th>\n",
       "      <th>driver_id</th>\n",
       "      <th>member_id</th>\n",
       "      <th>create_date</th>\n",
       "      <th>create_hour</th>\n",
       "      <th>status</th>\n",
       "      <th>estimate_money</th>\n",
       "      <th>estimate_distance</th>\n",
       "      <th>estimate_term</th>\n",
       "      <th>start_geo_id</th>\n",
       "      <th>end_geo_id</th>\n",
       "    </tr>\n",
       "  </thead>\n",
       "  <tbody>\n",
       "    <tr>\n",
       "      <th>140484</th>\n",
       "      <td>cc874301b6287c3bfc85a33c2838e6a7</td>\n",
       "      <td>a77aa99572b3093d4727ab4b26c19ec8</td>\n",
       "      <td>b4502d9bc4061f78d58ae7dff513fca1</td>\n",
       "      <td>2017-07-01</td>\n",
       "      <td>0</td>\n",
       "      <td>2</td>\n",
       "      <td>53.00</td>\n",
       "      <td>7993.0</td>\n",
       "      <td>15.0</td>\n",
       "      <td>0175b8486a67a505f0dc183f6df7f750</td>\n",
       "      <td>e8075aa7f0fc96871cc204bea0696b43</td>\n",
       "    </tr>\n",
       "    <tr>\n",
       "      <th>424969</th>\n",
       "      <td>05c8a90bfcaccffd35ec1e478d28b1f4</td>\n",
       "      <td>872d4b63a98c4e7d752091701f30b2e8</td>\n",
       "      <td>263d0ee3545b130a9620dd17520d9873</td>\n",
       "      <td>2017-07-01</td>\n",
       "      <td>0</td>\n",
       "      <td>1</td>\n",
       "      <td>76.03</td>\n",
       "      <td>11780.0</td>\n",
       "      <td>21.0</td>\n",
       "      <td>02fa9f7cd1d2c5dfdb32ed9c2aec23d9</td>\n",
       "      <td>bae435e54e698139d5dfda788f91f32e</td>\n",
       "    </tr>\n",
       "    <tr>\n",
       "      <th>512405</th>\n",
       "      <td>cb9562253d80fb50b09b71becd1e4c2a</td>\n",
       "      <td>4128af1c3d6761cd2a7b902d63c633be</td>\n",
       "      <td>1fb04c8cff05de9344a5c28f90f10853</td>\n",
       "      <td>2017-07-01</td>\n",
       "      <td>0</td>\n",
       "      <td>2</td>\n",
       "      <td>162.00</td>\n",
       "      <td>24848.0</td>\n",
       "      <td>33.0</td>\n",
       "      <td>02fa9f7cd1d2c5dfdb32ed9c2aec23d9</td>\n",
       "      <td>f5dc996f6aa097f7a84a9bcfe58ed55c</td>\n",
       "    </tr>\n",
       "    <tr>\n",
       "      <th>138303</th>\n",
       "      <td>0b09e8d7ad6ce04db8dd86e1e9781dac</td>\n",
       "      <td>676a50b58679afc0e573776d7cbb3835</td>\n",
       "      <td>66a4b2373d81f406524cfe971d8c1f85</td>\n",
       "      <td>2017-07-01</td>\n",
       "      <td>0</td>\n",
       "      <td>2</td>\n",
       "      <td>106.00</td>\n",
       "      <td>14380.0</td>\n",
       "      <td>22.0</td>\n",
       "      <td>0a64b01e91cf367a9b016d4f6d42290f</td>\n",
       "      <td>0613fd690240317177a03a0b26ca8591</td>\n",
       "    </tr>\n",
       "    <tr>\n",
       "      <th>660676</th>\n",
       "      <td>b3cd752e659d0a59a17ca93a0d8036b1</td>\n",
       "      <td>c0ad0bd82af303c6f4c071bbe1f20e5a</td>\n",
       "      <td>42a64158ef5efa210cb63687062ff8c8</td>\n",
       "      <td>2017-07-01</td>\n",
       "      <td>0</td>\n",
       "      <td>2</td>\n",
       "      <td>43.00</td>\n",
       "      <td>3234.0</td>\n",
       "      <td>6.0</td>\n",
       "      <td>0a64b01e91cf367a9b016d4f6d42290f</td>\n",
       "      <td>0a64b01e91cf367a9b016d4f6d42290f</td>\n",
       "    </tr>\n",
       "  </tbody>\n",
       "</table>\n",
       "</div>"
      ],
      "text/plain": [
       "                                      id                         driver_id  \\\n",
       "140484  cc874301b6287c3bfc85a33c2838e6a7  a77aa99572b3093d4727ab4b26c19ec8   \n",
       "424969  05c8a90bfcaccffd35ec1e478d28b1f4  872d4b63a98c4e7d752091701f30b2e8   \n",
       "512405  cb9562253d80fb50b09b71becd1e4c2a  4128af1c3d6761cd2a7b902d63c633be   \n",
       "138303  0b09e8d7ad6ce04db8dd86e1e9781dac  676a50b58679afc0e573776d7cbb3835   \n",
       "660676  b3cd752e659d0a59a17ca93a0d8036b1  c0ad0bd82af303c6f4c071bbe1f20e5a   \n",
       "\n",
       "                               member_id create_date  create_hour  status  \\\n",
       "140484  b4502d9bc4061f78d58ae7dff513fca1  2017-07-01            0       2   \n",
       "424969  263d0ee3545b130a9620dd17520d9873  2017-07-01            0       1   \n",
       "512405  1fb04c8cff05de9344a5c28f90f10853  2017-07-01            0       2   \n",
       "138303  66a4b2373d81f406524cfe971d8c1f85  2017-07-01            0       2   \n",
       "660676  42a64158ef5efa210cb63687062ff8c8  2017-07-01            0       2   \n",
       "\n",
       "        estimate_money  estimate_distance  estimate_term  \\\n",
       "140484           53.00             7993.0           15.0   \n",
       "424969           76.03            11780.0           21.0   \n",
       "512405          162.00            24848.0           33.0   \n",
       "138303          106.00            14380.0           22.0   \n",
       "660676           43.00             3234.0            6.0   \n",
       "\n",
       "                            start_geo_id                        end_geo_id  \n",
       "140484  0175b8486a67a505f0dc183f6df7f750  e8075aa7f0fc96871cc204bea0696b43  \n",
       "424969  02fa9f7cd1d2c5dfdb32ed9c2aec23d9  bae435e54e698139d5dfda788f91f32e  \n",
       "512405  02fa9f7cd1d2c5dfdb32ed9c2aec23d9  f5dc996f6aa097f7a84a9bcfe58ed55c  \n",
       "138303  0a64b01e91cf367a9b016d4f6d42290f  0613fd690240317177a03a0b26ca8591  \n",
       "660676  0a64b01e91cf367a9b016d4f6d42290f  0a64b01e91cf367a9b016d4f6d42290f  "
      ]
     },
     "execution_count": 5,
     "metadata": {},
     "output_type": "execute_result"
    }
   ],
   "source": [
    "july_aug.head()"
   ]
  },
  {
   "cell_type": "code",
   "execution_count": 6,
   "metadata": {
    "collapsed": true
   },
   "outputs": [],
   "source": [
    "july_aug.to_csv('data/july_aug.csv',index=False)"
   ]
  },
  {
   "cell_type": "code",
   "execution_count": null,
   "metadata": {
    "collapsed": true
   },
   "outputs": [],
   "source": []
  }
 ],
 "metadata": {
  "kernelspec": {
   "display_name": "Python 3",
   "language": "python",
   "name": "python3"
  },
  "language_info": {
   "codemirror_mode": {
    "name": "ipython",
    "version": 3
   },
   "file_extension": ".py",
   "mimetype": "text/x-python",
   "name": "python",
   "nbconvert_exporter": "python",
   "pygments_lexer": "ipython3",
   "version": "3.6.2"
  }
 },
 "nbformat": 4,
 "nbformat_minor": 2
}
