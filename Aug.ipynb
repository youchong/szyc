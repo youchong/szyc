{
 "cells": [
  {
   "cell_type": "code",
   "execution_count": 1,
   "metadata": {
    "collapsed": true
   },
   "outputs": [],
   "source": [
    "import pandas as pd\n",
    "import numpy as np\n",
    "import random as rnd\n",
    "\n",
    "# visualization\n",
    "import seaborn as sns\n",
    "import matplotlib.pyplot as plt\n",
    "%matplotlib inline"
   ]
  },
  {
   "cell_type": "code",
   "execution_count": 2,
   "metadata": {
    "collapsed": true
   },
   "outputs": [],
   "source": [
    "Aug=pd.read_csv('data/train_Aug.csv')"
   ]
  },
  {
   "cell_type": "code",
   "execution_count": 3,
   "metadata": {},
   "outputs": [
    {
     "data": {
      "text/html": [
       "<div>\n",
       "<style>\n",
       "    .dataframe thead tr:only-child th {\n",
       "        text-align: right;\n",
       "    }\n",
       "\n",
       "    .dataframe thead th {\n",
       "        text-align: left;\n",
       "    }\n",
       "\n",
       "    .dataframe tbody tr th {\n",
       "        vertical-align: top;\n",
       "    }\n",
       "</style>\n",
       "<table border=\"1\" class=\"dataframe\">\n",
       "  <thead>\n",
       "    <tr style=\"text-align: right;\">\n",
       "      <th></th>\n",
       "      <th>id</th>\n",
       "      <th>driver_id</th>\n",
       "      <th>member_id</th>\n",
       "      <th>create_date</th>\n",
       "      <th>create_hour</th>\n",
       "      <th>status</th>\n",
       "      <th>estimate_money</th>\n",
       "      <th>estimate_distance</th>\n",
       "      <th>estimate_term</th>\n",
       "      <th>start_geo_id</th>\n",
       "      <th>end_geo_id</th>\n",
       "    </tr>\n",
       "  </thead>\n",
       "  <tbody>\n",
       "    <tr>\n",
       "      <th>0</th>\n",
       "      <td>4274d909ef093f6acf7a10083ed91bda</td>\n",
       "      <td>55f51e0518470d3906ce07e5990a186f</td>\n",
       "      <td>82cab3e2cdaf398987476119a9ebb564</td>\n",
       "      <td>2017-08-01</td>\n",
       "      <td>12</td>\n",
       "      <td>2</td>\n",
       "      <td>42.00</td>\n",
       "      <td>7324.0</td>\n",
       "      <td>14.0</td>\n",
       "      <td>aa532f0935c3f7f5d2f1f337125998a0</td>\n",
       "      <td>940ed2bc6835c66f6261c972d4176d25</td>\n",
       "    </tr>\n",
       "    <tr>\n",
       "      <th>1</th>\n",
       "      <td>1a7c6820bb2bdaf5c8302770af844444</td>\n",
       "      <td>db8dcdff6c9164152c1974c34715a4b6</td>\n",
       "      <td>6279e4919266998bb5f73c283a5090d3</td>\n",
       "      <td>2017-08-01</td>\n",
       "      <td>12</td>\n",
       "      <td>2</td>\n",
       "      <td>37.00</td>\n",
       "      <td>5901.0</td>\n",
       "      <td>11.0</td>\n",
       "      <td>0a64b01e91cf367a9b016d4f6d42290f</td>\n",
       "      <td>1239d1bfdc532392645d7a37f7469adf</td>\n",
       "    </tr>\n",
       "    <tr>\n",
       "      <th>2</th>\n",
       "      <td>0d2261cee2654bd2a250b0458167eb5b</td>\n",
       "      <td>b16a06a5ea94028944a81ad5bbdbb8ca</td>\n",
       "      <td>db475cfbf3c4f6dc15b327b0d18713c7</td>\n",
       "      <td>2017-08-01</td>\n",
       "      <td>14</td>\n",
       "      <td>2</td>\n",
       "      <td>32.00</td>\n",
       "      <td>3137.0</td>\n",
       "      <td>6.0</td>\n",
       "      <td>c538ad66d710f99ad0ce951152da36a4</td>\n",
       "      <td>c538ad66d710f99ad0ce951152da36a4</td>\n",
       "    </tr>\n",
       "    <tr>\n",
       "      <th>3</th>\n",
       "      <td>7944af8f5d1c5e24aca80ed9cf28cb07</td>\n",
       "      <td>d41d8cd98f00b204e9800998ecf8427e</td>\n",
       "      <td>737643b4d285bada9f4cbb0e78c16fc6</td>\n",
       "      <td>2017-08-01</td>\n",
       "      <td>14</td>\n",
       "      <td>0</td>\n",
       "      <td>34.53</td>\n",
       "      <td>3672.0</td>\n",
       "      <td>7.0</td>\n",
       "      <td>ba20ac2de22cfe373f316eaa256b85fc</td>\n",
       "      <td>ba20ac2de22cfe373f316eaa256b85fc</td>\n",
       "    </tr>\n",
       "    <tr>\n",
       "      <th>4</th>\n",
       "      <td>f85e6f1c36ee1887824982c0d49a027a</td>\n",
       "      <td>744a981e300806bc53b0346a98c8f28d</td>\n",
       "      <td>ef8d60c395a297058948794ce93bd4ed</td>\n",
       "      <td>2017-08-01</td>\n",
       "      <td>16</td>\n",
       "      <td>2</td>\n",
       "      <td>31.00</td>\n",
       "      <td>4392.0</td>\n",
       "      <td>8.0</td>\n",
       "      <td>83fdd3fc77b27bdbfbc1b3a8d7912fbf</td>\n",
       "      <td>3d53327ef089e222f9d4aa6823f60c70</td>\n",
       "    </tr>\n",
       "  </tbody>\n",
       "</table>\n",
       "</div>"
      ],
      "text/plain": [
       "                                 id                         driver_id  \\\n",
       "0  4274d909ef093f6acf7a10083ed91bda  55f51e0518470d3906ce07e5990a186f   \n",
       "1  1a7c6820bb2bdaf5c8302770af844444  db8dcdff6c9164152c1974c34715a4b6   \n",
       "2  0d2261cee2654bd2a250b0458167eb5b  b16a06a5ea94028944a81ad5bbdbb8ca   \n",
       "3  7944af8f5d1c5e24aca80ed9cf28cb07  d41d8cd98f00b204e9800998ecf8427e   \n",
       "4  f85e6f1c36ee1887824982c0d49a027a  744a981e300806bc53b0346a98c8f28d   \n",
       "\n",
       "                          member_id create_date  create_hour  status  \\\n",
       "0  82cab3e2cdaf398987476119a9ebb564  2017-08-01           12       2   \n",
       "1  6279e4919266998bb5f73c283a5090d3  2017-08-01           12       2   \n",
       "2  db475cfbf3c4f6dc15b327b0d18713c7  2017-08-01           14       2   \n",
       "3  737643b4d285bada9f4cbb0e78c16fc6  2017-08-01           14       0   \n",
       "4  ef8d60c395a297058948794ce93bd4ed  2017-08-01           16       2   \n",
       "\n",
       "   estimate_money  estimate_distance  estimate_term  \\\n",
       "0           42.00             7324.0           14.0   \n",
       "1           37.00             5901.0           11.0   \n",
       "2           32.00             3137.0            6.0   \n",
       "3           34.53             3672.0            7.0   \n",
       "4           31.00             4392.0            8.0   \n",
       "\n",
       "                       start_geo_id                        end_geo_id  \n",
       "0  aa532f0935c3f7f5d2f1f337125998a0  940ed2bc6835c66f6261c972d4176d25  \n",
       "1  0a64b01e91cf367a9b016d4f6d42290f  1239d1bfdc532392645d7a37f7469adf  \n",
       "2  c538ad66d710f99ad0ce951152da36a4  c538ad66d710f99ad0ce951152da36a4  \n",
       "3  ba20ac2de22cfe373f316eaa256b85fc  ba20ac2de22cfe373f316eaa256b85fc  \n",
       "4  83fdd3fc77b27bdbfbc1b3a8d7912fbf  3d53327ef089e222f9d4aa6823f60c70  "
      ]
     },
     "execution_count": 3,
     "metadata": {},
     "output_type": "execute_result"
    }
   ],
   "source": [
    "Aug.head()"
   ]
  },
  {
   "cell_type": "code",
   "execution_count": 4,
   "metadata": {
    "collapsed": true
   },
   "outputs": [],
   "source": [
    "Aug=Aug[['start_geo_id','end_geo_id','create_date','create_hour']].sort_values(['create_date','create_hour'])"
   ]
  },
  {
   "cell_type": "code",
   "execution_count": 5,
   "metadata": {
    "collapsed": true
   },
   "outputs": [],
   "source": [
    "Aug['se_geo']=Aug['start_geo_id']+Aug['end_geo_id']"
   ]
  },
  {
   "cell_type": "code",
   "execution_count": 6,
   "metadata": {},
   "outputs": [
    {
     "data": {
      "text/html": [
       "<div>\n",
       "<style>\n",
       "    .dataframe thead tr:only-child th {\n",
       "        text-align: right;\n",
       "    }\n",
       "\n",
       "    .dataframe thead th {\n",
       "        text-align: left;\n",
       "    }\n",
       "\n",
       "    .dataframe tbody tr th {\n",
       "        vertical-align: top;\n",
       "    }\n",
       "</style>\n",
       "<table border=\"1\" class=\"dataframe\">\n",
       "  <thead>\n",
       "    <tr style=\"text-align: right;\">\n",
       "      <th></th>\n",
       "      <th>start_geo_id</th>\n",
       "      <th>end_geo_id</th>\n",
       "      <th>create_date</th>\n",
       "      <th>create_hour</th>\n",
       "      <th>se_geo</th>\n",
       "    </tr>\n",
       "  </thead>\n",
       "  <tbody>\n",
       "    <tr>\n",
       "      <th>349</th>\n",
       "      <td>95804250db351da3502379b2ba13b3b0</td>\n",
       "      <td>95804250db351da3502379b2ba13b3b0</td>\n",
       "      <td>2017-08-01</td>\n",
       "      <td>0</td>\n",
       "      <td>95804250db351da3502379b2ba13b3b095804250db351d...</td>\n",
       "    </tr>\n",
       "    <tr>\n",
       "      <th>676</th>\n",
       "      <td>ee62ad9476f20f81a6c52c8562d0fb76</td>\n",
       "      <td>accd9ba16fbd7218451339035fcb4990</td>\n",
       "      <td>2017-08-01</td>\n",
       "      <td>0</td>\n",
       "      <td>ee62ad9476f20f81a6c52c8562d0fb76accd9ba16fbd72...</td>\n",
       "    </tr>\n",
       "    <tr>\n",
       "      <th>795</th>\n",
       "      <td>f62d9de83f8bb9eeeade47b8b12f9058</td>\n",
       "      <td>207629375e9bfd951dffd4b1ff7fcc13</td>\n",
       "      <td>2017-08-01</td>\n",
       "      <td>0</td>\n",
       "      <td>f62d9de83f8bb9eeeade47b8b12f9058207629375e9bfd...</td>\n",
       "    </tr>\n",
       "    <tr>\n",
       "      <th>1029</th>\n",
       "      <td>ba20ac2de22cfe373f316eaa256b85fc</td>\n",
       "      <td>6cadec6434a1553cd7cd5bfc35e7589f</td>\n",
       "      <td>2017-08-01</td>\n",
       "      <td>0</td>\n",
       "      <td>ba20ac2de22cfe373f316eaa256b85fc6cadec6434a155...</td>\n",
       "    </tr>\n",
       "    <tr>\n",
       "      <th>1147</th>\n",
       "      <td>0a64b01e91cf367a9b016d4f6d42290f</td>\n",
       "      <td>d052be68560d6c2ac53137eebaaca679</td>\n",
       "      <td>2017-08-01</td>\n",
       "      <td>0</td>\n",
       "      <td>0a64b01e91cf367a9b016d4f6d42290fd052be68560d6c...</td>\n",
       "    </tr>\n",
       "  </tbody>\n",
       "</table>\n",
       "</div>"
      ],
      "text/plain": [
       "                          start_geo_id                        end_geo_id  \\\n",
       "349   95804250db351da3502379b2ba13b3b0  95804250db351da3502379b2ba13b3b0   \n",
       "676   ee62ad9476f20f81a6c52c8562d0fb76  accd9ba16fbd7218451339035fcb4990   \n",
       "795   f62d9de83f8bb9eeeade47b8b12f9058  207629375e9bfd951dffd4b1ff7fcc13   \n",
       "1029  ba20ac2de22cfe373f316eaa256b85fc  6cadec6434a1553cd7cd5bfc35e7589f   \n",
       "1147  0a64b01e91cf367a9b016d4f6d42290f  d052be68560d6c2ac53137eebaaca679   \n",
       "\n",
       "     create_date  create_hour  \\\n",
       "349   2017-08-01            0   \n",
       "676   2017-08-01            0   \n",
       "795   2017-08-01            0   \n",
       "1029  2017-08-01            0   \n",
       "1147  2017-08-01            0   \n",
       "\n",
       "                                                 se_geo  \n",
       "349   95804250db351da3502379b2ba13b3b095804250db351d...  \n",
       "676   ee62ad9476f20f81a6c52c8562d0fb76accd9ba16fbd72...  \n",
       "795   f62d9de83f8bb9eeeade47b8b12f9058207629375e9bfd...  \n",
       "1029  ba20ac2de22cfe373f316eaa256b85fc6cadec6434a155...  \n",
       "1147  0a64b01e91cf367a9b016d4f6d42290fd052be68560d6c...  "
      ]
     },
     "execution_count": 6,
     "metadata": {},
     "output_type": "execute_result"
    }
   ],
   "source": [
    "Aug.head()"
   ]
  },
  {
   "cell_type": "code",
   "execution_count": 9,
   "metadata": {},
   "outputs": [
    {
     "name": "stderr",
     "output_type": "stream",
     "text": [
      "/home/youchong/anaconda3/lib/python3.6/site-packages/ipykernel_launcher.py:1: FutureWarning: using a dict on a Series for aggregation\n",
      "is deprecated and will be removed in a future version\n",
      "  \"\"\"Entry point for launching an IPython kernel.\n"
     ]
    }
   ],
   "source": [
    "Aug=Aug.groupby(['create_date','create_hour','se_geo'])['se_geo'].agg({'count':np.size}).reset_index()"
   ]
  },
  {
   "cell_type": "code",
   "execution_count": 10,
   "metadata": {},
   "outputs": [
    {
     "data": {
      "text/html": [
       "<div>\n",
       "<style>\n",
       "    .dataframe thead tr:only-child th {\n",
       "        text-align: right;\n",
       "    }\n",
       "\n",
       "    .dataframe thead th {\n",
       "        text-align: left;\n",
       "    }\n",
       "\n",
       "    .dataframe tbody tr th {\n",
       "        vertical-align: top;\n",
       "    }\n",
       "</style>\n",
       "<table border=\"1\" class=\"dataframe\">\n",
       "  <thead>\n",
       "    <tr style=\"text-align: right;\">\n",
       "      <th></th>\n",
       "      <th>create_date</th>\n",
       "      <th>create_hour</th>\n",
       "      <th>se_geo</th>\n",
       "      <th>count</th>\n",
       "    </tr>\n",
       "  </thead>\n",
       "  <tbody>\n",
       "    <tr>\n",
       "      <th>0</th>\n",
       "      <td>2017-08-01</td>\n",
       "      <td>0</td>\n",
       "      <td>07eda31303c4ebd545fa2dedae5f7dd6f841c6a1468682...</td>\n",
       "      <td>1</td>\n",
       "    </tr>\n",
       "    <tr>\n",
       "      <th>1</th>\n",
       "      <td>2017-08-01</td>\n",
       "      <td>0</td>\n",
       "      <td>0a64b01e91cf367a9b016d4f6d42290f0e36f17c4567e5...</td>\n",
       "      <td>1</td>\n",
       "    </tr>\n",
       "    <tr>\n",
       "      <th>2</th>\n",
       "      <td>2017-08-01</td>\n",
       "      <td>0</td>\n",
       "      <td>0a64b01e91cf367a9b016d4f6d42290f1239d1bfdc5323...</td>\n",
       "      <td>2</td>\n",
       "    </tr>\n",
       "    <tr>\n",
       "      <th>3</th>\n",
       "      <td>2017-08-01</td>\n",
       "      <td>0</td>\n",
       "      <td>0a64b01e91cf367a9b016d4f6d42290f3fcb2fe11c0c68...</td>\n",
       "      <td>1</td>\n",
       "    </tr>\n",
       "    <tr>\n",
       "      <th>4</th>\n",
       "      <td>2017-08-01</td>\n",
       "      <td>0</td>\n",
       "      <td>0a64b01e91cf367a9b016d4f6d42290f596467ae80ad6f...</td>\n",
       "      <td>1</td>\n",
       "    </tr>\n",
       "  </tbody>\n",
       "</table>\n",
       "</div>"
      ],
      "text/plain": [
       "  create_date  create_hour                                             se_geo  \\\n",
       "0  2017-08-01            0  07eda31303c4ebd545fa2dedae5f7dd6f841c6a1468682...   \n",
       "1  2017-08-01            0  0a64b01e91cf367a9b016d4f6d42290f0e36f17c4567e5...   \n",
       "2  2017-08-01            0  0a64b01e91cf367a9b016d4f6d42290f1239d1bfdc5323...   \n",
       "3  2017-08-01            0  0a64b01e91cf367a9b016d4f6d42290f3fcb2fe11c0c68...   \n",
       "4  2017-08-01            0  0a64b01e91cf367a9b016d4f6d42290f596467ae80ad6f...   \n",
       "\n",
       "   count  \n",
       "0      1  \n",
       "1      1  \n",
       "2      2  \n",
       "3      1  \n",
       "4      1  "
      ]
     },
     "execution_count": 10,
     "metadata": {},
     "output_type": "execute_result"
    }
   ],
   "source": [
    "Aug.head()"
   ]
  },
  {
   "cell_type": "code",
   "execution_count": 11,
   "metadata": {
    "collapsed": true
   },
   "outputs": [],
   "source": [
    "test=pd.read_csv('data/test_id_Aug_agg_public5k.csv')"
   ]
  },
  {
   "cell_type": "code",
   "execution_count": 12,
   "metadata": {},
   "outputs": [
    {
     "data": {
      "text/html": [
       "<div>\n",
       "<style>\n",
       "    .dataframe thead tr:only-child th {\n",
       "        text-align: right;\n",
       "    }\n",
       "\n",
       "    .dataframe thead th {\n",
       "        text-align: left;\n",
       "    }\n",
       "\n",
       "    .dataframe tbody tr th {\n",
       "        vertical-align: top;\n",
       "    }\n",
       "</style>\n",
       "<table border=\"1\" class=\"dataframe\">\n",
       "  <thead>\n",
       "    <tr style=\"text-align: right;\">\n",
       "      <th></th>\n",
       "      <th>test_id</th>\n",
       "      <th>start_geo_id</th>\n",
       "      <th>end_geo_id</th>\n",
       "      <th>create_date</th>\n",
       "      <th>create_hour</th>\n",
       "    </tr>\n",
       "  </thead>\n",
       "  <tbody>\n",
       "    <tr>\n",
       "      <th>0</th>\n",
       "      <td>0</td>\n",
       "      <td>c538ad66d710f99ad0ce951152da36a4</td>\n",
       "      <td>90bb1d035e403538d20b073aec57bea2</td>\n",
       "      <td>2017-08-01</td>\n",
       "      <td>21</td>\n",
       "    </tr>\n",
       "    <tr>\n",
       "      <th>1</th>\n",
       "      <td>1</td>\n",
       "      <td>c538ad66d710f99ad0ce951152da36a4</td>\n",
       "      <td>6097a8df0b2757894ce7b4a48ae2a692</td>\n",
       "      <td>2017-08-01</td>\n",
       "      <td>21</td>\n",
       "    </tr>\n",
       "    <tr>\n",
       "      <th>2</th>\n",
       "      <td>2</td>\n",
       "      <td>c538ad66d710f99ad0ce951152da36a4</td>\n",
       "      <td>27d75f17e61587172fe7a6827bbaa198</td>\n",
       "      <td>2017-08-01</td>\n",
       "      <td>21</td>\n",
       "    </tr>\n",
       "    <tr>\n",
       "      <th>3</th>\n",
       "      <td>3</td>\n",
       "      <td>c538ad66d710f99ad0ce951152da36a4</td>\n",
       "      <td>6097a8df0b2757894ce7b4a48ae2a692</td>\n",
       "      <td>2017-08-01</td>\n",
       "      <td>17</td>\n",
       "    </tr>\n",
       "    <tr>\n",
       "      <th>4</th>\n",
       "      <td>4</td>\n",
       "      <td>92e1e8020813ef939183e345626b442a</td>\n",
       "      <td>92e1e8020813ef939183e345626b442a</td>\n",
       "      <td>2017-08-01</td>\n",
       "      <td>17</td>\n",
       "    </tr>\n",
       "  </tbody>\n",
       "</table>\n",
       "</div>"
      ],
      "text/plain": [
       "   test_id                      start_geo_id  \\\n",
       "0        0  c538ad66d710f99ad0ce951152da36a4   \n",
       "1        1  c538ad66d710f99ad0ce951152da36a4   \n",
       "2        2  c538ad66d710f99ad0ce951152da36a4   \n",
       "3        3  c538ad66d710f99ad0ce951152da36a4   \n",
       "4        4  92e1e8020813ef939183e345626b442a   \n",
       "\n",
       "                         end_geo_id create_date  create_hour  \n",
       "0  90bb1d035e403538d20b073aec57bea2  2017-08-01           21  \n",
       "1  6097a8df0b2757894ce7b4a48ae2a692  2017-08-01           21  \n",
       "2  27d75f17e61587172fe7a6827bbaa198  2017-08-01           21  \n",
       "3  6097a8df0b2757894ce7b4a48ae2a692  2017-08-01           17  \n",
       "4  92e1e8020813ef939183e345626b442a  2017-08-01           17  "
      ]
     },
     "execution_count": 12,
     "metadata": {},
     "output_type": "execute_result"
    }
   ],
   "source": [
    "test.head()"
   ]
  },
  {
   "cell_type": "code",
   "execution_count": 13,
   "metadata": {
    "collapsed": true
   },
   "outputs": [],
   "source": [
    "test['se_geo']=test['start_geo_id']+test['end_geo_id']"
   ]
  },
  {
   "cell_type": "code",
   "execution_count": 14,
   "metadata": {
    "collapsed": true
   },
   "outputs": [],
   "source": [
    "test.drop(['start_geo_id','end_geo_id'],axis=1,inplace=True)"
   ]
  },
  {
   "cell_type": "code",
   "execution_count": 15,
   "metadata": {},
   "outputs": [
    {
     "data": {
      "text/html": [
       "<div>\n",
       "<style>\n",
       "    .dataframe thead tr:only-child th {\n",
       "        text-align: right;\n",
       "    }\n",
       "\n",
       "    .dataframe thead th {\n",
       "        text-align: left;\n",
       "    }\n",
       "\n",
       "    .dataframe tbody tr th {\n",
       "        vertical-align: top;\n",
       "    }\n",
       "</style>\n",
       "<table border=\"1\" class=\"dataframe\">\n",
       "  <thead>\n",
       "    <tr style=\"text-align: right;\">\n",
       "      <th></th>\n",
       "      <th>test_id</th>\n",
       "      <th>create_date</th>\n",
       "      <th>create_hour</th>\n",
       "      <th>se_geo</th>\n",
       "    </tr>\n",
       "  </thead>\n",
       "  <tbody>\n",
       "    <tr>\n",
       "      <th>0</th>\n",
       "      <td>0</td>\n",
       "      <td>2017-08-01</td>\n",
       "      <td>21</td>\n",
       "      <td>c538ad66d710f99ad0ce951152da36a490bb1d035e4035...</td>\n",
       "    </tr>\n",
       "    <tr>\n",
       "      <th>1</th>\n",
       "      <td>1</td>\n",
       "      <td>2017-08-01</td>\n",
       "      <td>21</td>\n",
       "      <td>c538ad66d710f99ad0ce951152da36a46097a8df0b2757...</td>\n",
       "    </tr>\n",
       "    <tr>\n",
       "      <th>2</th>\n",
       "      <td>2</td>\n",
       "      <td>2017-08-01</td>\n",
       "      <td>21</td>\n",
       "      <td>c538ad66d710f99ad0ce951152da36a427d75f17e61587...</td>\n",
       "    </tr>\n",
       "    <tr>\n",
       "      <th>3</th>\n",
       "      <td>3</td>\n",
       "      <td>2017-08-01</td>\n",
       "      <td>17</td>\n",
       "      <td>c538ad66d710f99ad0ce951152da36a46097a8df0b2757...</td>\n",
       "    </tr>\n",
       "    <tr>\n",
       "      <th>4</th>\n",
       "      <td>4</td>\n",
       "      <td>2017-08-01</td>\n",
       "      <td>17</td>\n",
       "      <td>92e1e8020813ef939183e345626b442a92e1e8020813ef...</td>\n",
       "    </tr>\n",
       "  </tbody>\n",
       "</table>\n",
       "</div>"
      ],
      "text/plain": [
       "   test_id create_date  create_hour  \\\n",
       "0        0  2017-08-01           21   \n",
       "1        1  2017-08-01           21   \n",
       "2        2  2017-08-01           21   \n",
       "3        3  2017-08-01           17   \n",
       "4        4  2017-08-01           17   \n",
       "\n",
       "                                              se_geo  \n",
       "0  c538ad66d710f99ad0ce951152da36a490bb1d035e4035...  \n",
       "1  c538ad66d710f99ad0ce951152da36a46097a8df0b2757...  \n",
       "2  c538ad66d710f99ad0ce951152da36a427d75f17e61587...  \n",
       "3  c538ad66d710f99ad0ce951152da36a46097a8df0b2757...  \n",
       "4  92e1e8020813ef939183e345626b442a92e1e8020813ef...  "
      ]
     },
     "execution_count": 15,
     "metadata": {},
     "output_type": "execute_result"
    }
   ],
   "source": [
    "test.head()"
   ]
  },
  {
   "cell_type": "code",
   "execution_count": 16,
   "metadata": {
    "collapsed": true
   },
   "outputs": [],
   "source": [
    "h1=[]\n",
    "h2=[]\n",
    "for index,row in test.iterrows():\n",
    "    count1=Aug[(Aug['create_date']==row['create_date'])&(Aug['se_geo']==row['se_geo'])&(Aug['create_hour']==row['create_hour']-1)]['count']\n",
    "    count2=Aug[(Aug['create_date']==row['create_date'])&(Aug['se_geo']==row['se_geo'])&(Aug['create_hour']==row['create_hour']+1)]['count']\n",
    "    if len(count1.values)>0:\n",
    "        h1.append(count1.values[0])\n",
    "    else:\n",
    "        h1.append(1)\n",
    "    if len(count2.values)>0:\n",
    "        h2.append(count2.values[0])\n",
    "    else:\n",
    "        h2.append(1)"
   ]
  },
  {
   "cell_type": "code",
   "execution_count": 17,
   "metadata": {
    "collapsed": true
   },
   "outputs": [],
   "source": [
    "test['count1']=h1\n",
    "test['count2']=h2"
   ]
  },
  {
   "cell_type": "code",
   "execution_count": 21,
   "metadata": {},
   "outputs": [
    {
     "data": {
      "text/html": [
       "<div>\n",
       "<style>\n",
       "    .dataframe thead tr:only-child th {\n",
       "        text-align: right;\n",
       "    }\n",
       "\n",
       "    .dataframe thead th {\n",
       "        text-align: left;\n",
       "    }\n",
       "\n",
       "    .dataframe tbody tr th {\n",
       "        vertical-align: top;\n",
       "    }\n",
       "</style>\n",
       "<table border=\"1\" class=\"dataframe\">\n",
       "  <thead>\n",
       "    <tr style=\"text-align: right;\">\n",
       "      <th></th>\n",
       "      <th>test_id</th>\n",
       "      <th>create_date</th>\n",
       "      <th>create_hour</th>\n",
       "      <th>se_geo</th>\n",
       "      <th>count1</th>\n",
       "      <th>count2</th>\n",
       "    </tr>\n",
       "  </thead>\n",
       "  <tbody>\n",
       "  </tbody>\n",
       "</table>\n",
       "</div>"
      ],
      "text/plain": [
       "Empty DataFrame\n",
       "Columns: [test_id, create_date, create_hour, se_geo, count1, count2]\n",
       "Index: []"
      ]
     },
     "execution_count": 21,
     "metadata": {},
     "output_type": "execute_result"
    }
   ],
   "source": [
    "test[test['count2']==0]"
   ]
  },
  {
   "cell_type": "code",
   "execution_count": 23,
   "metadata": {
    "collapsed": true
   },
   "outputs": [],
   "source": [
    "test['count']=test['count1']+test['count2']"
   ]
  },
  {
   "cell_type": "code",
   "execution_count": 24,
   "metadata": {
    "collapsed": true
   },
   "outputs": [],
   "source": [
    "test['count']=test['count']//2"
   ]
  },
  {
   "cell_type": "code",
   "execution_count": 25,
   "metadata": {},
   "outputs": [
    {
     "data": {
      "text/html": [
       "<div>\n",
       "<style>\n",
       "    .dataframe thead tr:only-child th {\n",
       "        text-align: right;\n",
       "    }\n",
       "\n",
       "    .dataframe thead th {\n",
       "        text-align: left;\n",
       "    }\n",
       "\n",
       "    .dataframe tbody tr th {\n",
       "        vertical-align: top;\n",
       "    }\n",
       "</style>\n",
       "<table border=\"1\" class=\"dataframe\">\n",
       "  <thead>\n",
       "    <tr style=\"text-align: right;\">\n",
       "      <th></th>\n",
       "      <th>test_id</th>\n",
       "      <th>create_date</th>\n",
       "      <th>create_hour</th>\n",
       "      <th>se_geo</th>\n",
       "      <th>count1</th>\n",
       "      <th>count2</th>\n",
       "      <th>count</th>\n",
       "    </tr>\n",
       "  </thead>\n",
       "  <tbody>\n",
       "    <tr>\n",
       "      <th>0</th>\n",
       "      <td>0</td>\n",
       "      <td>2017-08-01</td>\n",
       "      <td>21</td>\n",
       "      <td>c538ad66d710f99ad0ce951152da36a490bb1d035e4035...</td>\n",
       "      <td>5</td>\n",
       "      <td>32</td>\n",
       "      <td>18</td>\n",
       "    </tr>\n",
       "    <tr>\n",
       "      <th>1</th>\n",
       "      <td>1</td>\n",
       "      <td>2017-08-01</td>\n",
       "      <td>21</td>\n",
       "      <td>c538ad66d710f99ad0ce951152da36a46097a8df0b2757...</td>\n",
       "      <td>6</td>\n",
       "      <td>20</td>\n",
       "      <td>13</td>\n",
       "    </tr>\n",
       "    <tr>\n",
       "      <th>2</th>\n",
       "      <td>2</td>\n",
       "      <td>2017-08-01</td>\n",
       "      <td>21</td>\n",
       "      <td>c538ad66d710f99ad0ce951152da36a427d75f17e61587...</td>\n",
       "      <td>4</td>\n",
       "      <td>11</td>\n",
       "      <td>7</td>\n",
       "    </tr>\n",
       "    <tr>\n",
       "      <th>3</th>\n",
       "      <td>3</td>\n",
       "      <td>2017-08-01</td>\n",
       "      <td>17</td>\n",
       "      <td>c538ad66d710f99ad0ce951152da36a46097a8df0b2757...</td>\n",
       "      <td>9</td>\n",
       "      <td>9</td>\n",
       "      <td>9</td>\n",
       "    </tr>\n",
       "    <tr>\n",
       "      <th>4</th>\n",
       "      <td>4</td>\n",
       "      <td>2017-08-01</td>\n",
       "      <td>17</td>\n",
       "      <td>92e1e8020813ef939183e345626b442a92e1e8020813ef...</td>\n",
       "      <td>2</td>\n",
       "      <td>3</td>\n",
       "      <td>2</td>\n",
       "    </tr>\n",
       "  </tbody>\n",
       "</table>\n",
       "</div>"
      ],
      "text/plain": [
       "   test_id create_date  create_hour  \\\n",
       "0        0  2017-08-01           21   \n",
       "1        1  2017-08-01           21   \n",
       "2        2  2017-08-01           21   \n",
       "3        3  2017-08-01           17   \n",
       "4        4  2017-08-01           17   \n",
       "\n",
       "                                              se_geo  count1  count2  count  \n",
       "0  c538ad66d710f99ad0ce951152da36a490bb1d035e4035...       5      32     18  \n",
       "1  c538ad66d710f99ad0ce951152da36a46097a8df0b2757...       6      20     13  \n",
       "2  c538ad66d710f99ad0ce951152da36a427d75f17e61587...       4      11      7  \n",
       "3  c538ad66d710f99ad0ce951152da36a46097a8df0b2757...       9       9      9  \n",
       "4  92e1e8020813ef939183e345626b442a92e1e8020813ef...       2       3      2  "
      ]
     },
     "execution_count": 25,
     "metadata": {},
     "output_type": "execute_result"
    }
   ],
   "source": [
    "test.head()"
   ]
  },
  {
   "cell_type": "code",
   "execution_count": 26,
   "metadata": {
    "collapsed": true
   },
   "outputs": [],
   "source": [
    "submision=pd.read_csv('data/UAI_sample_submission.csv')"
   ]
  },
  {
   "cell_type": "code",
   "execution_count": 27,
   "metadata": {},
   "outputs": [
    {
     "data": {
      "text/html": [
       "<div>\n",
       "<style>\n",
       "    .dataframe thead tr:only-child th {\n",
       "        text-align: right;\n",
       "    }\n",
       "\n",
       "    .dataframe thead th {\n",
       "        text-align: left;\n",
       "    }\n",
       "\n",
       "    .dataframe tbody tr th {\n",
       "        vertical-align: top;\n",
       "    }\n",
       "</style>\n",
       "<table border=\"1\" class=\"dataframe\">\n",
       "  <thead>\n",
       "    <tr style=\"text-align: right;\">\n",
       "      <th></th>\n",
       "      <th>test_id</th>\n",
       "      <th>count</th>\n",
       "    </tr>\n",
       "  </thead>\n",
       "  <tbody>\n",
       "    <tr>\n",
       "      <th>0</th>\n",
       "      <td>0</td>\n",
       "      <td>0</td>\n",
       "    </tr>\n",
       "    <tr>\n",
       "      <th>1</th>\n",
       "      <td>1</td>\n",
       "      <td>0</td>\n",
       "    </tr>\n",
       "    <tr>\n",
       "      <th>2</th>\n",
       "      <td>2</td>\n",
       "      <td>0</td>\n",
       "    </tr>\n",
       "    <tr>\n",
       "      <th>3</th>\n",
       "      <td>3</td>\n",
       "      <td>0</td>\n",
       "    </tr>\n",
       "    <tr>\n",
       "      <th>4</th>\n",
       "      <td>4</td>\n",
       "      <td>0</td>\n",
       "    </tr>\n",
       "  </tbody>\n",
       "</table>\n",
       "</div>"
      ],
      "text/plain": [
       "   test_id  count\n",
       "0        0      0\n",
       "1        1      0\n",
       "2        2      0\n",
       "3        3      0\n",
       "4        4      0"
      ]
     },
     "execution_count": 27,
     "metadata": {},
     "output_type": "execute_result"
    }
   ],
   "source": [
    "submision.head()"
   ]
  },
  {
   "cell_type": "code",
   "execution_count": 28,
   "metadata": {
    "collapsed": true
   },
   "outputs": [],
   "source": [
    "submision['count']=test['count']"
   ]
  },
  {
   "cell_type": "code",
   "execution_count": 29,
   "metadata": {},
   "outputs": [
    {
     "data": {
      "text/html": [
       "<div>\n",
       "<style>\n",
       "    .dataframe thead tr:only-child th {\n",
       "        text-align: right;\n",
       "    }\n",
       "\n",
       "    .dataframe thead th {\n",
       "        text-align: left;\n",
       "    }\n",
       "\n",
       "    .dataframe tbody tr th {\n",
       "        vertical-align: top;\n",
       "    }\n",
       "</style>\n",
       "<table border=\"1\" class=\"dataframe\">\n",
       "  <thead>\n",
       "    <tr style=\"text-align: right;\">\n",
       "      <th></th>\n",
       "      <th>test_id</th>\n",
       "      <th>count</th>\n",
       "    </tr>\n",
       "  </thead>\n",
       "  <tbody>\n",
       "    <tr>\n",
       "      <th>0</th>\n",
       "      <td>0</td>\n",
       "      <td>18</td>\n",
       "    </tr>\n",
       "    <tr>\n",
       "      <th>1</th>\n",
       "      <td>1</td>\n",
       "      <td>13</td>\n",
       "    </tr>\n",
       "    <tr>\n",
       "      <th>2</th>\n",
       "      <td>2</td>\n",
       "      <td>7</td>\n",
       "    </tr>\n",
       "    <tr>\n",
       "      <th>3</th>\n",
       "      <td>3</td>\n",
       "      <td>9</td>\n",
       "    </tr>\n",
       "    <tr>\n",
       "      <th>4</th>\n",
       "      <td>4</td>\n",
       "      <td>2</td>\n",
       "    </tr>\n",
       "  </tbody>\n",
       "</table>\n",
       "</div>"
      ],
      "text/plain": [
       "   test_id  count\n",
       "0        0     18\n",
       "1        1     13\n",
       "2        2      7\n",
       "3        3      9\n",
       "4        4      2"
      ]
     },
     "execution_count": 29,
     "metadata": {},
     "output_type": "execute_result"
    }
   ],
   "source": [
    "submision.head()"
   ]
  },
  {
   "cell_type": "code",
   "execution_count": 31,
   "metadata": {
    "collapsed": true
   },
   "outputs": [],
   "source": [
    "submision.to_csv('data/submission//sub_sample_avg.csv')"
   ]
  }
 ],
 "metadata": {
  "kernelspec": {
   "display_name": "Python 3",
   "language": "python",
   "name": "python3"
  },
  "language_info": {
   "codemirror_mode": {
    "name": "ipython",
    "version": 3
   },
   "file_extension": ".py",
   "mimetype": "text/x-python",
   "name": "python",
   "nbconvert_exporter": "python",
   "pygments_lexer": "ipython3",
   "version": "3.6.3"
  }
 },
 "nbformat": 4,
 "nbformat_minor": 2
}
